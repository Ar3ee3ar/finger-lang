{
  "nbformat": 4,
  "nbformat_minor": 0,
  "metadata": {
    "colab": {
      "name": "finger_lang.ipynb",
      "provenance": [],
      "include_colab_link": true
    },
    "kernelspec": {
      "name": "python3",
      "display_name": "Python 3"
    }
  },
  "cells": [
    {
      "cell_type": "markdown",
      "metadata": {
        "id": "view-in-github",
        "colab_type": "text"
      },
      "source": [
        "<a href=\"https://colab.research.google.com/github/Ar3ee3ar/finger-lang/blob/main/finger_lang.ipynb\" target=\"_parent\"><img src=\"https://colab.research.google.com/assets/colab-badge.svg\" alt=\"Open In Colab\"/></a>"
      ]
    },
    {
      "cell_type": "code",
      "metadata": {
        "id": "PR0rAq2ussBj",
        "colab": {
          "base_uri": "https://localhost:8080/",
          "height": 34
        },
        "outputId": "a7c7e08a-59b1-45cd-ccd6-db6e142596bb"
      },
      "source": [
        "!git clone https://github.com/ardamavi/Sign-Language-Digits-Dataset.git"
      ],
      "execution_count": null,
      "outputs": [
        {
          "output_type": "stream",
          "text": [
            "fatal: destination path 'Sign-Language-Digits-Dataset' already exists and is not an empty directory.\n"
          ],
          "name": "stdout"
        }
      ]
    },
    {
      "cell_type": "code",
      "metadata": {
        "id": "UGGM9WqX43a6",
        "colab": {
          "base_uri": "https://localhost:8080/",
          "height": 51
        },
        "outputId": "2d91340b-ad27-4c1f-dfd1-85e7b865fe25"
      },
      "source": [
        "!pip install opencv-contrib-python\n",
        "import cv2"
      ],
      "execution_count": null,
      "outputs": [
        {
          "output_type": "stream",
          "text": [
            "Requirement already satisfied: opencv-contrib-python in /usr/local/lib/python3.6/dist-packages (4.1.2.30)\n",
            "Requirement already satisfied: numpy>=1.11.3 in /usr/local/lib/python3.6/dist-packages (from opencv-contrib-python) (1.18.5)\n"
          ],
          "name": "stdout"
        }
      ]
    },
    {
      "cell_type": "code",
      "metadata": {
        "id": "wQsSJ-vBvNNc"
      },
      "source": [
        "import os\n",
        "import numpy as np\n",
        "from sklearn.model_selection import train_test_split\n",
        "from keras.utils import to_categorical\n",
        "from sklearn.preprocessing import LabelEncoder\n",
        "\n",
        "folders =['/content/Sign-Language-Digits-Dataset/Dataset/0',\n",
        "          '/content/Sign-Language-Digits-Dataset/Dataset/1',\n",
        "          '/content/Sign-Language-Digits-Dataset/Dataset/2',\n",
        "          '/content/Sign-Language-Digits-Dataset/Dataset/3',\n",
        "          '/content/Sign-Language-Digits-Dataset/Dataset/4',\n",
        "          '/content/Sign-Language-Digits-Dataset/Dataset/5',\n",
        "          '/content/Sign-Language-Digits-Dataset/Dataset/6',\n",
        "          '/content/Sign-Language-Digits-Dataset/Dataset/7',\n",
        "          '/content/Sign-Language-Digits-Dataset/Dataset/8',\n",
        "          '/content/Sign-Language-Digits-Dataset/Dataset/9']\n",
        "images=[]\n",
        "labels=[]\n",
        "def load_images_from_folder(folder):\n",
        "  for filename in os.listdir(folder):\n",
        "      img = cv2.imread(os.path.join(folder,filename))\n",
        "      img = cv2.resize(img,(32,32))\n",
        "      #img=image.img_to_array(img)\n",
        "      images.append(img)\n",
        "      label = folder.split(os.path.sep)[-1]\n",
        "      labels.append(label)\n",
        "def convert_images(images):\n",
        "  X=np.array(images)\n",
        "  #X=X.reshape(X.shape[0],100*100*3)\n",
        "  return X\n",
        "def convert_labels(labels):\n",
        "  enc = LabelEncoder()\n",
        "  P=enc.fit_transform(labels)\n",
        "  Y=to_categorical(P)\n",
        "  return Y\n",
        "\n",
        "for folder in folders:\n",
        "  #print('Readiing from path: '+folder)\n",
        "  load_images_from_folder(folder)\n",
        "X=convert_images(images)\n",
        "Y = convert_labels(labels)\n",
        "\n",
        "X_train,X_test,Y_train,Y_test = train_test_split(X,Y,test_size=0.3)\n",
        "\n",
        "X_train = X_train.astype('float32')\n",
        "X_test = X_test.astype('float32')\n",
        "X_train /=255\n",
        "X_test /=255\n",
        "\n",
        "#print(X_train.shape)\n",
        "#print(X_test.shape)"
      ],
      "execution_count": null,
      "outputs": []
    },
    {
      "cell_type": "code",
      "metadata": {
        "id": "RgSSKNgC1uIK"
      },
      "source": [
        "from keras.layers import Dense, Flatten,Conv2D,MaxPooling2D,Activation\n",
        "from keras.models import Sequential\n",
        "from keras.optimizers import SGD,Adam\n",
        "cnn = Sequential()\n",
        "##\n",
        "cnn.add(Conv2D(6,(5,5),activation='relu',input_shape=(32,32,3)))\n",
        "cnn.add(MaxPooling2D(pool_size=(2,2)))\n",
        "cnn.add(Conv2D(10,(5,5),activation='relu'))\n",
        "cnn.add(MaxPooling2D(pool_size=(2,2)))\n",
        "## loop for depend on your need\n",
        "cnn.add(Flatten())\n",
        "cnn.add(Dense(60,activation='relu'))\n",
        "cnn.add(Dense(240,activation='relu'))\n",
        "cnn.add(Dense(60,activation='relu'))\n",
        "cnn.add(Dense(10,activation='softmax'))\n",
        "\n",
        "adm = Adam(lr=0.002)\n",
        "cnn.compile(loss='categorical_crossentropy', metrics=['accuracy'],optimizer=adm)\n",
        "#print(cnn.summary())"
      ],
      "execution_count": null,
      "outputs": []
    },
    {
      "cell_type": "code",
      "metadata": {
        "id": "dwnlKFKN3vwp",
        "colab": {
          "base_uri": "https://localhost:8080/",
          "height": 1000
        },
        "outputId": "4b85c3ef-fd93-4aa2-abdd-8863ace3a52c"
      },
      "source": [
        "import matplotlib.pyplot as plt\n",
        "history = cnn.fit(X_train,Y_train,epochs=60,verbose=1)\n",
        "plt.plot(history.history['loss'])\n",
        "##plt.title('Loss value')\n",
        "plt.ylabel('loss')\n",
        "plt.xlabel('epoch')\n",
        "plt.show()"
      ],
      "execution_count": null,
      "outputs": [
        {
          "output_type": "stream",
          "text": [
            "Epoch 1/50\n",
            "46/46 [==============================] - 1s 27ms/step - loss: 2.2105 - accuracy: 0.2065\n",
            "Epoch 2/50\n",
            "46/46 [==============================] - 1s 27ms/step - loss: 1.2476 - accuracy: 0.5502\n",
            "Epoch 3/50\n",
            "46/46 [==============================] - 1s 27ms/step - loss: 0.8515 - accuracy: 0.7117\n",
            "Epoch 4/50\n",
            "46/46 [==============================] - 1s 27ms/step - loss: 0.5381 - accuracy: 0.8205\n",
            "Epoch 5/50\n",
            "46/46 [==============================] - 1s 27ms/step - loss: 0.4055 - accuracy: 0.8656\n",
            "Epoch 6/50\n",
            "46/46 [==============================] - 1s 27ms/step - loss: 0.3193 - accuracy: 0.8960\n",
            "Epoch 7/50\n",
            "46/46 [==============================] - 1s 27ms/step - loss: 0.2234 - accuracy: 0.9342\n",
            "Epoch 8/50\n",
            "46/46 [==============================] - 1s 28ms/step - loss: 0.1882 - accuracy: 0.9480\n",
            "Epoch 9/50\n",
            "46/46 [==============================] - 1s 27ms/step - loss: 0.1618 - accuracy: 0.9432\n",
            "Epoch 10/50\n",
            "46/46 [==============================] - 1s 27ms/step - loss: 0.1580 - accuracy: 0.9446\n",
            "Epoch 11/50\n",
            "46/46 [==============================] - 1s 27ms/step - loss: 0.1159 - accuracy: 0.9667\n",
            "Epoch 12/50\n",
            "46/46 [==============================] - 1s 27ms/step - loss: 0.0830 - accuracy: 0.9723\n",
            "Epoch 13/50\n",
            "46/46 [==============================] - 1s 27ms/step - loss: 0.0442 - accuracy: 0.9882\n",
            "Epoch 14/50\n",
            "46/46 [==============================] - 1s 26ms/step - loss: 0.0259 - accuracy: 0.9965\n",
            "Epoch 15/50\n",
            "46/46 [==============================] - 1s 27ms/step - loss: 0.0157 - accuracy: 0.9972\n",
            "Epoch 16/50\n",
            "46/46 [==============================] - 1s 27ms/step - loss: 0.0210 - accuracy: 0.9931\n",
            "Epoch 17/50\n",
            "46/46 [==============================] - 1s 27ms/step - loss: 0.0266 - accuracy: 0.9924\n",
            "Epoch 18/50\n",
            "46/46 [==============================] - 1s 27ms/step - loss: 0.0373 - accuracy: 0.9903\n",
            "Epoch 19/50\n",
            "46/46 [==============================] - 1s 28ms/step - loss: 0.0416 - accuracy: 0.9875\n",
            "Epoch 20/50\n",
            "46/46 [==============================] - 1s 27ms/step - loss: 0.0493 - accuracy: 0.9834\n",
            "Epoch 21/50\n",
            "46/46 [==============================] - 1s 27ms/step - loss: 0.0882 - accuracy: 0.9681\n",
            "Epoch 22/50\n",
            "46/46 [==============================] - 1s 27ms/step - loss: 0.0770 - accuracy: 0.9785\n",
            "Epoch 23/50\n",
            "46/46 [==============================] - 1s 27ms/step - loss: 0.0204 - accuracy: 0.9931\n",
            "Epoch 24/50\n",
            "46/46 [==============================] - 1s 27ms/step - loss: 0.0097 - accuracy: 0.9986\n",
            "Epoch 25/50\n",
            "46/46 [==============================] - 1s 27ms/step - loss: 0.0018 - accuracy: 1.0000\n",
            "Epoch 26/50\n",
            "46/46 [==============================] - 1s 27ms/step - loss: 8.1238e-04 - accuracy: 1.0000\n",
            "Epoch 27/50\n",
            "46/46 [==============================] - 1s 27ms/step - loss: 5.8523e-04 - accuracy: 1.0000\n",
            "Epoch 28/50\n",
            "46/46 [==============================] - 1s 27ms/step - loss: 4.8042e-04 - accuracy: 1.0000\n",
            "Epoch 29/50\n",
            "46/46 [==============================] - 1s 27ms/step - loss: 4.1671e-04 - accuracy: 1.0000\n",
            "Epoch 30/50\n",
            "46/46 [==============================] - 1s 27ms/step - loss: 3.6863e-04 - accuracy: 1.0000\n",
            "Epoch 31/50\n",
            "46/46 [==============================] - 1s 27ms/step - loss: 3.2935e-04 - accuracy: 1.0000\n",
            "Epoch 32/50\n",
            "46/46 [==============================] - 1s 27ms/step - loss: 2.9888e-04 - accuracy: 1.0000\n",
            "Epoch 33/50\n",
            "46/46 [==============================] - 1s 27ms/step - loss: 2.6688e-04 - accuracy: 1.0000\n",
            "Epoch 34/50\n",
            "46/46 [==============================] - 1s 27ms/step - loss: 2.3874e-04 - accuracy: 1.0000\n",
            "Epoch 35/50\n",
            "46/46 [==============================] - 1s 27ms/step - loss: 2.1907e-04 - accuracy: 1.0000\n",
            "Epoch 36/50\n",
            "46/46 [==============================] - 1s 27ms/step - loss: 2.0353e-04 - accuracy: 1.0000\n",
            "Epoch 37/50\n",
            "46/46 [==============================] - 1s 27ms/step - loss: 1.8611e-04 - accuracy: 1.0000\n",
            "Epoch 38/50\n",
            "46/46 [==============================] - 1s 27ms/step - loss: 1.6959e-04 - accuracy: 1.0000\n",
            "Epoch 39/50\n",
            "46/46 [==============================] - 1s 27ms/step - loss: 1.5872e-04 - accuracy: 1.0000\n",
            "Epoch 40/50\n",
            "46/46 [==============================] - 1s 27ms/step - loss: 1.4670e-04 - accuracy: 1.0000\n",
            "Epoch 41/50\n",
            "46/46 [==============================] - 1s 27ms/step - loss: 1.3731e-04 - accuracy: 1.0000\n",
            "Epoch 42/50\n",
            "46/46 [==============================] - 1s 27ms/step - loss: 1.3741e-04 - accuracy: 1.0000\n",
            "Epoch 43/50\n",
            "46/46 [==============================] - 1s 27ms/step - loss: 1.2212e-04 - accuracy: 1.0000\n",
            "Epoch 44/50\n",
            "46/46 [==============================] - 1s 27ms/step - loss: 1.1169e-04 - accuracy: 1.0000\n",
            "Epoch 45/50\n",
            "46/46 [==============================] - 1s 27ms/step - loss: 1.0457e-04 - accuracy: 1.0000\n",
            "Epoch 46/50\n",
            "46/46 [==============================] - 1s 27ms/step - loss: 1.0032e-04 - accuracy: 1.0000\n",
            "Epoch 47/50\n",
            "46/46 [==============================] - 1s 27ms/step - loss: 9.3124e-05 - accuracy: 1.0000\n",
            "Epoch 48/50\n",
            "46/46 [==============================] - 1s 27ms/step - loss: 8.9768e-05 - accuracy: 1.0000\n",
            "Epoch 49/50\n",
            "46/46 [==============================] - 1s 27ms/step - loss: 8.2834e-05 - accuracy: 1.0000\n",
            "Epoch 50/50\n",
            "46/46 [==============================] - 1s 27ms/step - loss: 7.8344e-05 - accuracy: 1.0000\n"
          ],
          "name": "stdout"
        },
        {
          "output_type": "display_data",
          "data": {
            "image/png": "[encoded data removed]",
            "text/plain": [
              "<Figure size 432x288 with 1 Axes>"
            ]
          },
          "metadata": {
            "tags": [],
            "needs_background": "light"
          }
        }
      ]
    },
    {
      "cell_type": "code",
      "metadata": {
        "id": "Xn_cwW628hV5",
        "colab": {
          "base_uri": "https://localhost:8080/",
          "height": 283
        },
        "outputId": "3377c374-c248-4285-9eb0-a779bfb3e4b9"
      },
      "source": [
        "img_path = '/content/9 HAND5c753a6285524.png'\n",
        "img = cv2.imread(img_path)\n",
        "img = cv2.resize(img,(32,32))\n",
        "lala = [0,1,2,3,4,5,6,7,8,9]\n",
        "lala = convert_labels(lala)\n",
        "x=convert_images(img)\n",
        "x = np.expand_dims(x, axis=0)\n",
        "preds = cnn.predict(x)\n",
        "preds = preds.reshape(10,)\n",
        "imgplot = plt.subplots(1, 1)\n",
        "for i in range(10):\n",
        "  comparison = preds == lala[i]\n",
        "  if (comparison.all()):\n",
        "    print(i)\n",
        "imgplot = plt.imshow(img)\n",
        "plt.show() "
      ],
      "execution_count": null,
      "outputs": [
        {
          "output_type": "stream",
          "text": [
            "3\n"
          ],
          "name": "stdout"
        },
        {
          "output_type": "display_data",
          "data": {
            "image/png": "[encoded data removed]",
            "text/plain": [
              "<Figure size 432x288 with 1 Axes>"
            ]
          },
          "metadata": {
            "tags": [],
            "needs_background": "light"
          }
        }
      ]
    },
    {
      "cell_type": "code",
      "metadata": {
        "id": "yGORbFvzJ4q9",
        "colab": {
          "base_uri": "https://localhost:8080/",
          "height": 51
        },
        "outputId": "c6b99716-8b35-49d1-de23-0c18082a5abc"
      },
      "source": [
        "score = cnn.evaluate(X_test, Y_test, verbose=0)\n",
        " #y= cnn.predict(X_test)\n",
        "print(cnn.metrics_names)\n",
        "print(score)"
      ],
      "execution_count": null,
      "outputs": [
        {
          "output_type": "stream",
          "text": [
            "['loss', 'accuracy']\n",
            "[0.4747413992881775, 0.9386106729507446]\n"
          ],
          "name": "stdout"
        }
      ]
    }
  ]
}
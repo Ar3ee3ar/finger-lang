{
  "nbformat": 4,
  "nbformat_minor": 0,
  "metadata": {
    "colab": {
      "name": "finger_lang.ipynb",
      "provenance": [],
      "authorship_tag": "ABX9TyOXCQYw1LB596F2OWeyb+UG",
      "include_colab_link": true
    },
    "kernelspec": {
      "name": "python3",
      "display_name": "Python 3"
    }
  },
  "cells": [
    {
      "cell_type": "markdown",
      "metadata": {
        "id": "view-in-github",
        "colab_type": "text"
      },
      "source": [
        "<a href=\"https://colab.research.google.com/github/Arzeezar/finger-lang/blob/main/finger_lang.ipynb\" target=\"_parent\"><img src=\"https://colab.research.google.com/assets/colab-badge.svg\" alt=\"Open In Colab\"/></a>"
      ]
    },
    {
      "cell_type": "code",
      "metadata": {
        "id": "PR0rAq2ussBj",
        "outputId": "99bb1b27-5085-467b-9227-33e59fc38218",
        "colab": {
          "base_uri": "https://localhost:8080/",
          "height": 34
        }
      },
      "source": [
        "!git clone https://github.com/ardamavi/Sign-Language-Digits-Dataset.git"
      ],
      "execution_count": 82,
      "outputs": [
        {
          "output_type": "stream",
          "text": [
            "fatal: destination path 'Sign-Language-Digits-Dataset' already exists and is not an empty directory.\n"
          ],
          "name": "stdout"
        }
      ]
    },
    {
      "cell_type": "code",
      "metadata": {
        "id": "UGGM9WqX43a6",
        "outputId": "dc09b754-e570-4121-acb7-9de816ee38ac",
        "colab": {
          "base_uri": "https://localhost:8080/",
          "height": 52
        }
      },
      "source": [
        "!pip install opencv-contrib-python\n",
        "import cv2"
      ],
      "execution_count": 83,
      "outputs": [
        {
          "output_type": "stream",
          "text": [
            "Requirement already satisfied: opencv-contrib-python in /usr/local/lib/python3.6/dist-packages (4.1.2.30)\n",
            "Requirement already satisfied: numpy>=1.11.3 in /usr/local/lib/python3.6/dist-packages (from opencv-contrib-python) (1.18.5)\n"
          ],
          "name": "stdout"
        }
      ]
    },
    {
      "cell_type": "code",
      "metadata": {
        "id": "wQsSJ-vBvNNc"
      },
      "source": [
        "import os\n",
        "import numpy as np\n",
        "from sklearn.model_selection import train_test_split\n",
        "from keras.utils import to_categorical\n",
        "from sklearn.preprocessing import LabelEncoder\n",
        "\n",
        "folders =['/content/Sign-Language-Digits-Dataset/Dataset/0',\n",
        "          '/content/Sign-Language-Digits-Dataset/Dataset/1',\n",
        "          '/content/Sign-Language-Digits-Dataset/Dataset/2',\n",
        "          '/content/Sign-Language-Digits-Dataset/Dataset/3',\n",
        "          '/content/Sign-Language-Digits-Dataset/Dataset/4',\n",
        "          '/content/Sign-Language-Digits-Dataset/Dataset/5',\n",
        "          '/content/Sign-Language-Digits-Dataset/Dataset/6',\n",
        "          '/content/Sign-Language-Digits-Dataset/Dataset/7',\n",
        "          '/content/Sign-Language-Digits-Dataset/Dataset/8',\n",
        "          '/content/Sign-Language-Digits-Dataset/Dataset/9']\n",
        "images=[]\n",
        "labels=[]\n",
        "def load_images_from_folder(folder):\n",
        "  for filename in os.listdir(folder):\n",
        "      img = cv2.imread(os.path.join(folder,filename))\n",
        "      img = cv2.resize(img,(32,32))\n",
        "      #img=image.img_to_array(img)\n",
        "      images.append(img)\n",
        "      label = folder.split(os.path.sep)[-1]\n",
        "      labels.append(label)\n",
        "def convert_images(images):\n",
        "  X=np.array(images)\n",
        "  #X=X.reshape(X.shape[0],100*100*3)\n",
        "  return X\n",
        "def convert_labels(labels):\n",
        "  enc = LabelEncoder()\n",
        "  P=enc.fit_transform(labels)\n",
        "  Y=to_categorical(P)\n",
        "  return Y\n",
        "\n",
        "for folder in folders:\n",
        "  #print('Readiing from path: '+folder)\n",
        "  load_images_from_folder(folder)\n",
        "X=convert_images(images)\n",
        "Y = convert_labels(labels)\n",
        "\n",
        "X_train,X_test,Y_train,Y_test = train_test_split(X,Y,test_size=0.3)\n",
        "\n",
        "X_train = X_train.astype('float32')\n",
        "X_test = X_test.astype('float32')\n",
        "X_train /=255\n",
        "X_test /=255\n",
        "\n",
        "#print(X_train.shape)\n",
        "#print(X_test.shape)"
      ],
      "execution_count": 84,
      "outputs": []
    },
    {
      "cell_type": "code",
      "metadata": {
        "id": "RgSSKNgC1uIK"
      },
      "source": [
        "from keras.layers import Dense, Flatten,Conv2D,MaxPooling2D,Activation\n",
        "from keras.models import Sequential\n",
        "from keras.optimizers import SGD,Adam\n",
        "cnn = Sequential()\n",
        "##\n",
        "cnn.add(Conv2D(6,(5,5),activation='relu',input_shape=(32,32,3)))\n",
        "cnn.add(MaxPooling2D(pool_size=(2,2)))\n",
        "cnn.add(Conv2D(10,(5,5),activation='relu',input_shape=(32,32,3)))\n",
        "cnn.add(MaxPooling2D(pool_size=(2,2)))\n",
        "## loop for depend on your need\n",
        "cnn.add(Flatten())\n",
        "cnn.add(Dense(120,activation='relu'))\n",
        "cnn.add(Dense(240,activation='relu'))\n",
        "cnn.add(Dense(60,activation='relu'))\n",
        "cnn.add(Dense(10,activation='softmax'))\n",
        "\n",
        "adm = Adam(lr=0.002)\n",
        "cnn.compile(loss='categorical_crossentropy', metrics=['accuracy'],optimizer=adm)\n",
        "#print(cnn.summary())"
      ],
      "execution_count": 131,
      "outputs": []
    },
    {
      "cell_type": "code",
      "metadata": {
        "id": "dwnlKFKN3vwp",
        "outputId": "11334a07-7ac6-4381-a861-c6ba539061ac",
        "colab": {
          "base_uri": "https://localhost:8080/",
          "height": 1000
        }
      },
      "source": [
        "import matplotlib.pyplot as plt\n",
        "history = cnn.fit(X_train,Y_train,epochs=100,verbose=1)\n",
        "plt.plot(history.history['loss'])\n",
        "##plt.title('Loss value')\n",
        "plt.ylabel('loss')\n",
        "plt.xlabel('epoch')\n",
        "plt.show()"
      ],
      "execution_count": 132,
      "outputs": [
        {
          "output_type": "stream",
          "text": [
            "Epoch 1/100\n",
            "46/46 [==============================] - 1s 24ms/step - loss: 2.1863 - accuracy: 0.2051\n",
            "Epoch 2/100\n",
            "46/46 [==============================] - 1s 24ms/step - loss: 1.1883 - accuracy: 0.5787\n",
            "Epoch 3/100\n",
            "46/46 [==============================] - 1s 23ms/step - loss: 0.6903 - accuracy: 0.7685\n",
            "Epoch 4/100\n",
            "46/46 [==============================] - 1s 24ms/step - loss: 0.5023 - accuracy: 0.8212\n",
            "Epoch 5/100\n",
            "46/46 [==============================] - 1s 24ms/step - loss: 0.3394 - accuracy: 0.8954\n",
            "Epoch 6/100\n",
            "46/46 [==============================] - 1s 23ms/step - loss: 0.2761 - accuracy: 0.9127\n",
            "Epoch 7/100\n",
            "46/46 [==============================] - 1s 23ms/step - loss: 0.1911 - accuracy: 0.9376\n",
            "Epoch 8/100\n",
            "46/46 [==============================] - 1s 23ms/step - loss: 0.1375 - accuracy: 0.9570\n",
            "Epoch 9/100\n",
            "46/46 [==============================] - 1s 23ms/step - loss: 0.1572 - accuracy: 0.9515\n",
            "Epoch 10/100\n",
            "46/46 [==============================] - 1s 23ms/step - loss: 0.1025 - accuracy: 0.9667\n",
            "Epoch 11/100\n",
            "46/46 [==============================] - 1s 23ms/step - loss: 0.0472 - accuracy: 0.9882\n",
            "Epoch 12/100\n",
            "46/46 [==============================] - 1s 24ms/step - loss: 0.0310 - accuracy: 0.9958\n",
            "Epoch 13/100\n",
            "46/46 [==============================] - 1s 24ms/step - loss: 0.0269 - accuracy: 0.9931\n",
            "Epoch 14/100\n",
            "46/46 [==============================] - 1s 24ms/step - loss: 0.0248 - accuracy: 0.9945\n",
            "Epoch 15/100\n",
            "46/46 [==============================] - 1s 25ms/step - loss: 0.0752 - accuracy: 0.9737\n",
            "Epoch 16/100\n",
            "46/46 [==============================] - 1s 24ms/step - loss: 0.0841 - accuracy: 0.9757\n",
            "Epoch 17/100\n",
            "46/46 [==============================] - 1s 24ms/step - loss: 0.0311 - accuracy: 0.9903\n",
            "Epoch 18/100\n",
            "46/46 [==============================] - 1s 24ms/step - loss: 0.0204 - accuracy: 0.9924\n",
            "Epoch 19/100\n",
            "46/46 [==============================] - 1s 23ms/step - loss: 0.0192 - accuracy: 0.9931\n",
            "Epoch 20/100\n",
            "46/46 [==============================] - 1s 24ms/step - loss: 0.0101 - accuracy: 0.9979\n",
            "Epoch 21/100\n",
            "46/46 [==============================] - 1s 23ms/step - loss: 0.0050 - accuracy: 0.9986\n",
            "Epoch 22/100\n",
            "46/46 [==============================] - 1s 24ms/step - loss: 0.0016 - accuracy: 1.0000\n",
            "Epoch 23/100\n",
            "46/46 [==============================] - 1s 24ms/step - loss: 5.6158e-04 - accuracy: 1.0000\n",
            "Epoch 24/100\n",
            "46/46 [==============================] - 1s 23ms/step - loss: 4.4829e-04 - accuracy: 1.0000\n",
            "Epoch 25/100\n",
            "46/46 [==============================] - 1s 23ms/step - loss: 3.9212e-04 - accuracy: 1.0000\n",
            "Epoch 26/100\n",
            "46/46 [==============================] - 1s 24ms/step - loss: 3.3306e-04 - accuracy: 1.0000\n",
            "Epoch 27/100\n",
            "46/46 [==============================] - 1s 23ms/step - loss: 2.9304e-04 - accuracy: 1.0000\n",
            "Epoch 28/100\n",
            "46/46 [==============================] - 1s 24ms/step - loss: 2.5530e-04 - accuracy: 1.0000\n",
            "Epoch 29/100\n",
            "46/46 [==============================] - 1s 23ms/step - loss: 2.3221e-04 - accuracy: 1.0000\n",
            "Epoch 30/100\n",
            "46/46 [==============================] - 1s 24ms/step - loss: 2.1304e-04 - accuracy: 1.0000\n",
            "Epoch 31/100\n",
            "46/46 [==============================] - 1s 23ms/step - loss: 1.8688e-04 - accuracy: 1.0000\n",
            "Epoch 32/100\n",
            "46/46 [==============================] - 1s 23ms/step - loss: 1.6952e-04 - accuracy: 1.0000\n",
            "Epoch 33/100\n",
            "46/46 [==============================] - 1s 24ms/step - loss: 1.5365e-04 - accuracy: 1.0000\n",
            "Epoch 34/100\n",
            "46/46 [==============================] - 1s 24ms/step - loss: 1.4043e-04 - accuracy: 1.0000\n",
            "Epoch 35/100\n",
            "46/46 [==============================] - 1s 25ms/step - loss: 1.3025e-04 - accuracy: 1.0000\n",
            "Epoch 36/100\n",
            "46/46 [==============================] - 1s 24ms/step - loss: 1.1930e-04 - accuracy: 1.0000\n",
            "Epoch 37/100\n",
            "46/46 [==============================] - 1s 24ms/step - loss: 1.1079e-04 - accuracy: 1.0000\n",
            "Epoch 38/100\n",
            "46/46 [==============================] - 1s 25ms/step - loss: 1.0214e-04 - accuracy: 1.0000\n",
            "Epoch 39/100\n",
            "46/46 [==============================] - 1s 25ms/step - loss: 9.6374e-05 - accuracy: 1.0000\n",
            "Epoch 40/100\n",
            "46/46 [==============================] - 1s 24ms/step - loss: 8.7327e-05 - accuracy: 1.0000\n",
            "Epoch 41/100\n",
            "46/46 [==============================] - 1s 24ms/step - loss: 8.3267e-05 - accuracy: 1.0000\n",
            "Epoch 42/100\n",
            "46/46 [==============================] - 1s 24ms/step - loss: 7.7988e-05 - accuracy: 1.0000\n",
            "Epoch 43/100\n",
            "46/46 [==============================] - 1s 23ms/step - loss: 7.1704e-05 - accuracy: 1.0000\n",
            "Epoch 44/100\n",
            "46/46 [==============================] - 1s 23ms/step - loss: 6.7592e-05 - accuracy: 1.0000\n",
            "Epoch 45/100\n",
            "46/46 [==============================] - 1s 23ms/step - loss: 6.5753e-05 - accuracy: 1.0000\n",
            "Epoch 46/100\n",
            "46/46 [==============================] - 1s 23ms/step - loss: 6.0119e-05 - accuracy: 1.0000\n",
            "Epoch 47/100\n",
            "46/46 [==============================] - 1s 23ms/step - loss: 5.6986e-05 - accuracy: 1.0000\n",
            "Epoch 48/100\n",
            "46/46 [==============================] - 1s 23ms/step - loss: 5.5760e-05 - accuracy: 1.0000\n",
            "Epoch 49/100\n",
            "46/46 [==============================] - 1s 24ms/step - loss: 5.1377e-05 - accuracy: 1.0000\n",
            "Epoch 50/100\n",
            "46/46 [==============================] - 1s 23ms/step - loss: 4.8469e-05 - accuracy: 1.0000\n",
            "Epoch 51/100\n",
            "46/46 [==============================] - 1s 24ms/step - loss: 4.8892e-05 - accuracy: 1.0000\n",
            "Epoch 52/100\n",
            "46/46 [==============================] - 1s 23ms/step - loss: 4.3386e-05 - accuracy: 1.0000\n",
            "Epoch 53/100\n",
            "46/46 [==============================] - 1s 23ms/step - loss: 4.3237e-05 - accuracy: 1.0000\n",
            "Epoch 54/100\n",
            "46/46 [==============================] - 1s 24ms/step - loss: 4.0331e-05 - accuracy: 1.0000\n",
            "Epoch 55/100\n",
            "46/46 [==============================] - 1s 23ms/step - loss: 4.9950e-05 - accuracy: 1.0000\n",
            "Epoch 56/100\n",
            "46/46 [==============================] - 1s 23ms/step - loss: 3.5658e-05 - accuracy: 1.0000\n",
            "Epoch 57/100\n",
            "46/46 [==============================] - 1s 24ms/step - loss: 3.3486e-05 - accuracy: 1.0000\n",
            "Epoch 58/100\n",
            "46/46 [==============================] - 1s 23ms/step - loss: 3.1968e-05 - accuracy: 1.0000\n",
            "Epoch 59/100\n",
            "46/46 [==============================] - 1s 24ms/step - loss: 3.0475e-05 - accuracy: 1.0000\n",
            "Epoch 60/100\n",
            "46/46 [==============================] - 1s 24ms/step - loss: 2.9070e-05 - accuracy: 1.0000\n",
            "Epoch 61/100\n",
            "46/46 [==============================] - 1s 23ms/step - loss: 2.8161e-05 - accuracy: 1.0000\n",
            "Epoch 62/100\n",
            "46/46 [==============================] - 1s 23ms/step - loss: 2.6705e-05 - accuracy: 1.0000\n",
            "Epoch 63/100\n",
            "46/46 [==============================] - 1s 24ms/step - loss: 2.5847e-05 - accuracy: 1.0000\n",
            "Epoch 64/100\n",
            "46/46 [==============================] - 1s 23ms/step - loss: 2.5253e-05 - accuracy: 1.0000\n",
            "Epoch 65/100\n",
            "46/46 [==============================] - 1s 24ms/step - loss: 2.3690e-05 - accuracy: 1.0000\n",
            "Epoch 66/100\n",
            "46/46 [==============================] - 1s 24ms/step - loss: 2.2721e-05 - accuracy: 1.0000\n",
            "Epoch 67/100\n",
            "46/46 [==============================] - 1s 24ms/step - loss: 2.2225e-05 - accuracy: 1.0000\n",
            "Epoch 68/100\n",
            "46/46 [==============================] - 1s 24ms/step - loss: 2.0986e-05 - accuracy: 1.0000\n",
            "Epoch 69/100\n",
            "46/46 [==============================] - 1s 24ms/step - loss: 2.0065e-05 - accuracy: 1.0000\n",
            "Epoch 70/100\n",
            "46/46 [==============================] - 1s 24ms/step - loss: 1.9591e-05 - accuracy: 1.0000\n",
            "Epoch 71/100\n",
            "46/46 [==============================] - 1s 24ms/step - loss: 1.8792e-05 - accuracy: 1.0000\n",
            "Epoch 72/100\n",
            "46/46 [==============================] - 1s 24ms/step - loss: 1.8215e-05 - accuracy: 1.0000\n",
            "Epoch 73/100\n",
            "46/46 [==============================] - 1s 23ms/step - loss: 1.7601e-05 - accuracy: 1.0000\n",
            "Epoch 74/100\n",
            "46/46 [==============================] - 1s 23ms/step - loss: 1.6805e-05 - accuracy: 1.0000\n",
            "Epoch 75/100\n",
            "46/46 [==============================] - 1s 23ms/step - loss: 1.6334e-05 - accuracy: 1.0000\n",
            "Epoch 76/100\n",
            "46/46 [==============================] - 1s 24ms/step - loss: 1.5701e-05 - accuracy: 1.0000\n",
            "Epoch 77/100\n",
            "46/46 [==============================] - 1s 24ms/step - loss: 1.5232e-05 - accuracy: 1.0000\n",
            "Epoch 78/100\n",
            "46/46 [==============================] - 1s 24ms/step - loss: 1.4800e-05 - accuracy: 1.0000\n",
            "Epoch 79/100\n",
            "46/46 [==============================] - 1s 24ms/step - loss: 1.4580e-05 - accuracy: 1.0000\n",
            "Epoch 80/100\n",
            "46/46 [==============================] - 1s 24ms/step - loss: 1.3921e-05 - accuracy: 1.0000\n",
            "Epoch 81/100\n",
            "46/46 [==============================] - 1s 23ms/step - loss: 1.2992e-05 - accuracy: 1.0000\n",
            "Epoch 82/100\n",
            "46/46 [==============================] - 1s 24ms/step - loss: 1.2544e-05 - accuracy: 1.0000\n",
            "Epoch 83/100\n",
            "46/46 [==============================] - 1s 24ms/step - loss: 1.2512e-05 - accuracy: 1.0000\n",
            "Epoch 84/100\n",
            "46/46 [==============================] - 1s 23ms/step - loss: 1.1724e-05 - accuracy: 1.0000\n",
            "Epoch 85/100\n",
            "46/46 [==============================] - 1s 23ms/step - loss: 1.1707e-05 - accuracy: 1.0000\n",
            "Epoch 86/100\n",
            "46/46 [==============================] - 1s 24ms/step - loss: 1.0985e-05 - accuracy: 1.0000\n",
            "Epoch 87/100\n",
            "46/46 [==============================] - 1s 24ms/step - loss: 1.0624e-05 - accuracy: 1.0000\n",
            "Epoch 88/100\n",
            "46/46 [==============================] - 1s 23ms/step - loss: 1.0287e-05 - accuracy: 1.0000\n",
            "Epoch 89/100\n",
            "46/46 [==============================] - 1s 23ms/step - loss: 9.8991e-06 - accuracy: 1.0000\n",
            "Epoch 90/100\n",
            "46/46 [==============================] - 1s 23ms/step - loss: 9.6068e-06 - accuracy: 1.0000\n",
            "Epoch 91/100\n",
            "46/46 [==============================] - 1s 23ms/step - loss: 9.3931e-06 - accuracy: 1.0000\n",
            "Epoch 92/100\n",
            "46/46 [==============================] - 1s 24ms/step - loss: 9.0514e-06 - accuracy: 1.0000\n",
            "Epoch 93/100\n",
            "46/46 [==============================] - 1s 24ms/step - loss: 8.8904e-06 - accuracy: 1.0000\n",
            "Epoch 94/100\n",
            "46/46 [==============================] - 1s 25ms/step - loss: 8.4993e-06 - accuracy: 1.0000\n",
            "Epoch 95/100\n",
            "46/46 [==============================] - 1s 25ms/step - loss: 8.3965e-06 - accuracy: 1.0000\n",
            "Epoch 96/100\n",
            "46/46 [==============================] - 1s 25ms/step - loss: 8.0026e-06 - accuracy: 1.0000\n",
            "Epoch 97/100\n",
            "46/46 [==============================] - 1s 24ms/step - loss: 7.7418e-06 - accuracy: 1.0000\n",
            "Epoch 98/100\n",
            "46/46 [==============================] - 1s 25ms/step - loss: 7.5217e-06 - accuracy: 1.0000\n",
            "Epoch 99/100\n",
            "46/46 [==============================] - 1s 24ms/step - loss: 7.3172e-06 - accuracy: 1.0000\n",
            "Epoch 100/100\n",
            "46/46 [==============================] - 1s 24ms/step - loss: 7.1144e-06 - accuracy: 1.0000\n"
          ],
          "name": "stdout"
        },
        {
          "output_type": "display_data",
          "data": {
            "image/png": "[encoded data removed]",
            "text/plain": [
              "<Figure size 432x288 with 1 Axes>"
            ]
          },
          "metadata": {
            "tags": [],
            "needs_background": "light"
          }
        }
      ]
    },
    {
      "cell_type": "code",
      "metadata": {
        "id": "Xn_cwW628hV5",
        "outputId": "b68759ed-8604-4541-8e2d-5a87a5b70724",
        "colab": {
          "base_uri": "https://localhost:8080/",
          "height": 321
        }
      },
      "source": [
        "img_path = '/content/finger-language-seven.jpg'\n",
        "img = cv2.imread(img_path)\n",
        "img = mg = cv2.resize(img,(32,32))\n",
        "lala = [0,1,2,3,4,5,6,7,8,9]\n",
        "lala = convert_labels(lala)\n",
        "x=convert_images(img)\n",
        "x = np.expand_dims(x, axis=0)\n",
        "preds = cnn.predict(x)\n",
        "preds = preds.reshape(10,)\n",
        "imgplot = plt.subplots(1, 1)\n",
        "for i in range(10):\n",
        "  comparison = preds == lala[i]\n",
        "  if (comparison.all()):\n",
        "    print(i)\n",
        "imgplot = plt.imshow(img)\n",
        "plt.show() "
      ],
      "execution_count": 133,
      "outputs": [
        {
          "output_type": "stream",
          "text": [
            "WARNING:tensorflow:8 out of the last 51 calls to <function Model.make_predict_function.<locals>.predict_function at 0x7f0f6e344c80> triggered tf.function retracing. Tracing is expensive and the excessive number of tracings could be due to (1) creating @tf.function repeatedly in a loop, (2) passing tensors with different shapes, (3) passing Python objects instead of tensors. For (1), please define your @tf.function outside of the loop. For (2), @tf.function has experimental_relax_shapes=True option that relaxes argument shapes that can avoid unnecessary retracing. For (3), please refer to https://www.tensorflow.org/tutorials/customization/performance#python_or_tensor_args and https://www.tensorflow.org/api_docs/python/tf/function for  more details.\n",
            "6\n"
          ],
          "name": "stdout"
        },
        {
          "output_type": "display_data",
          "data": {
            "image/png": "[encoded data removed]",
            "text/plain": [
              "<Figure size 432x288 with 1 Axes>"
            ]
          },
          "metadata": {
            "tags": [],
            "needs_background": "light"
          }
        }
      ]
    },
    {
      "cell_type": "code",
      "metadata": {
        "id": "yGORbFvzJ4q9",
        "outputId": "3ff5bb9a-d4d5-4b67-efef-5e803df029ae",
        "colab": {
          "base_uri": "https://localhost:8080/",
          "height": 52
        }
      },
      "source": [
        "score = cnn.evaluate(X_test, Y_test, verbose=0)\n",
        " #y= cnn.predict(X_test)\n",
        "print(cnn.metrics_names)\n",
        "print(score)"
      ],
      "execution_count": 126,
      "outputs": [
        {
          "output_type": "stream",
          "text": [
            "['loss', 'accuracy']\n",
            "[0.8543330430984497, 0.8917608857154846]\n"
          ],
          "name": "stdout"
        }
      ]
    }
  ]
}